{
  "nbformat": 4,
  "nbformat_minor": 0,
  "metadata": {
    "colab": {
      "provenance": []
    },
    "kernelspec": {
      "name": "python3",
      "display_name": "Python 3"
    },
    "language_info": {
      "name": "python"
    }
  },
  "cells": [
    {
      "cell_type": "markdown",
      "source": [
        "# Momento de Retroalimentación: Módulo 2 Uso de framework o biblioteca de aprendizaje máquina para la implementación de una solución. (Portafolio Implementación)\n",
        "\n",
        "Por Juan Pablo Bernal Lafarga - A01742342"
      ],
      "metadata": {
        "id": "OJ2PLoTHS0fY"
      }
    },
    {
      "cell_type": "markdown",
      "source": [
        "### 1. Crea un espacio dentro del repositorio de GitHub que creaste para el portafolio de implementación (por ejemplo, una carpeta para el módulo de ML con una subcarpeta para este entregable)."
      ],
      "metadata": {
        "id": "2to9JY3cRUPU"
      }
    },
    {
      "cell_type": "markdown",
      "source": [
        "https://github.com/JPBL101203/TC3006C_A01742342/tree/main/Portafolio_Implementacion/Machine_Learning_Imp"
      ],
      "metadata": {
        "id": "M2tOQGpkToZE"
      }
    },
    {
      "cell_type": "markdown",
      "source": [
        "### 2. Selecciona cualquiera de los Challenge vistos en clase y programa un algoritmo que permita resolver el problema. Dicho algoritmo debe ser uno de los algoritmos vistos en el módulo (o que tu profesor de módulo autorice) haciendo uso de Scikit-learn. Lo que se busca es que demuestres tu conocimiento sobre el framework y como configurar el algoritmo."
      ],
      "metadata": {
        "id": "lQ542JiDS7CV"
      }
    },
    {
      "cell_type": "markdown",
      "source": [
        "He seleccionado el Week02_Challenge1 que dice:\n",
        "\n",
        "  - Adapte el código de la regresión lineal desarrollado en clase para que el modelo entrenado corresponda con una regresión logística. Posteriormente, implemente un clasificador que estime si un estudiante aprueba o no el curso:\n",
        "\n",
        "        ‡ Considerando solamente la columna ‘Attendance’\n",
        "\n",
        "        ‡ Considerando solamente la columna ‘Homework’\n",
        "\n",
        "      † Calcule las métricas de desempeño. ¿Cuál es mejor? ¿Le ganan a la referencia?"
      ],
      "metadata": {
        "id": "PmtshU4CTs9t"
      }
    },
    {
      "cell_type": "markdown",
      "source": [
        "### 3. Divide el set de datos del problema en dos subconjuntos, uno para entrenamiento y otro para prueba. Entrena tu modelo sobre el primer subconjunto, y por un mínimo de 100 iteraciones. Selecciona valores para la tasa de aprendizaje y para los parámetros iniciales, según tu criterio."
      ],
      "metadata": {
        "id": "za2Csm64TBc2"
      }
    },
    {
      "cell_type": "markdown",
      "source": [
        "Dado que el problema plantea 2 variables independientes, se tendrán los siguientes subconjuntos de entrenamiento y prueba:"
      ],
      "metadata": {
        "id": "-LCiji5jVLdF"
      }
    },
    {
      "cell_type": "code",
      "source": [
        "import pandas as pd\n",
        "import numpy as np\n",
        "\n",
        "x = pd.DataFrame()\n",
        "y = pd.DataFrame()\n",
        "x['Attendance'], x['Homework'] = [80, 65, 95, 95, 85, 75, 90, 65], [75, 70, 85, 100, 65, 55, 90, 80]\n",
        "y['Pass'] = [1, 0, 1, 1, 0, 0, 1, 1]"
      ],
      "metadata": {
        "id": "0jAbtpRXPqMk"
      },
      "execution_count": 33,
      "outputs": []
    },
    {
      "cell_type": "code",
      "source": [
        "from sklearn.model_selection import train_test_split\n",
        "\n",
        "X_train, X_test, y_train, y_test = train_test_split(x, y, test_size=0.25, random_state=42)"
      ],
      "metadata": {
        "id": "jn3gum9fTBtv"
      },
      "execution_count": 34,
      "outputs": []
    },
    {
      "cell_type": "markdown",
      "source": [
        "Se optó por una distribución de 75%-25% para los subconjuntos de entrenamiento y prueba respectivamente, ya que solo se cuenta con 8 observaciones. De esta manera el entrenamiento de se lleva a cabo con 6 datos y la prueba para predecir los otros 2 datos.\n",
        "\n",
        "Para dicha partición de los datos se utilizó la función 'train_test_split', la cual crea 4 variables, una variable de entrenamiento y una de prueba para la variable independiente, y una variable de entrenamiento y una de prueba para la variable dependiente. La proporción de la partición de los datos se da de acuerdo al parámetro 'test_size', que define el porcentaje de los datos que se irán a las variables de prueba."
      ],
      "metadata": {
        "id": "CepDDopHW-s0"
      }
    },
    {
      "cell_type": "code",
      "source": [
        "from sklearn.linear_model import LogisticRegression\n",
        "\n",
        "# Crear el modelo de regresión logística para 'Attendance'\n",
        "model = LogisticRegression() # Tiene un máximo de 100 iteraciones por default\n",
        "\n",
        "# Ajustar el modelo con los datos de entrenamiento para 'Attendance'\n",
        "model.fit(np.array(X_train['Attendance']).reshape(-1,1), y_train)"
      ],
      "metadata": {
        "id": "Uv16X_pHXkJ8",
        "colab": {
          "base_uri": "https://localhost:8080/",
          "height": 129
        },
        "outputId": "0515572e-902f-4916-8837-291c3103b5be"
      },
      "execution_count": 35,
      "outputs": [
        {
          "output_type": "stream",
          "name": "stderr",
          "text": [
            "/usr/local/lib/python3.10/dist-packages/sklearn/utils/validation.py:1183: DataConversionWarning: A column-vector y was passed when a 1d array was expected. Please change the shape of y to (n_samples, ), for example using ravel().\n",
            "  y = column_or_1d(y, warn=True)\n"
          ]
        },
        {
          "output_type": "execute_result",
          "data": {
            "text/plain": [
              "LogisticRegression()"
            ],
            "text/html": [
              "<style>#sk-container-id-5 {color: black;}#sk-container-id-5 pre{padding: 0;}#sk-container-id-5 div.sk-toggleable {background-color: white;}#sk-container-id-5 label.sk-toggleable__label {cursor: pointer;display: block;width: 100%;margin-bottom: 0;padding: 0.3em;box-sizing: border-box;text-align: center;}#sk-container-id-5 label.sk-toggleable__label-arrow:before {content: \"▸\";float: left;margin-right: 0.25em;color: #696969;}#sk-container-id-5 label.sk-toggleable__label-arrow:hover:before {color: black;}#sk-container-id-5 div.sk-estimator:hover label.sk-toggleable__label-arrow:before {color: black;}#sk-container-id-5 div.sk-toggleable__content {max-height: 0;max-width: 0;overflow: hidden;text-align: left;background-color: #f0f8ff;}#sk-container-id-5 div.sk-toggleable__content pre {margin: 0.2em;color: black;border-radius: 0.25em;background-color: #f0f8ff;}#sk-container-id-5 input.sk-toggleable__control:checked~div.sk-toggleable__content {max-height: 200px;max-width: 100%;overflow: auto;}#sk-container-id-5 input.sk-toggleable__control:checked~label.sk-toggleable__label-arrow:before {content: \"▾\";}#sk-container-id-5 div.sk-estimator input.sk-toggleable__control:checked~label.sk-toggleable__label {background-color: #d4ebff;}#sk-container-id-5 div.sk-label input.sk-toggleable__control:checked~label.sk-toggleable__label {background-color: #d4ebff;}#sk-container-id-5 input.sk-hidden--visually {border: 0;clip: rect(1px 1px 1px 1px);clip: rect(1px, 1px, 1px, 1px);height: 1px;margin: -1px;overflow: hidden;padding: 0;position: absolute;width: 1px;}#sk-container-id-5 div.sk-estimator {font-family: monospace;background-color: #f0f8ff;border: 1px dotted black;border-radius: 0.25em;box-sizing: border-box;margin-bottom: 0.5em;}#sk-container-id-5 div.sk-estimator:hover {background-color: #d4ebff;}#sk-container-id-5 div.sk-parallel-item::after {content: \"\";width: 100%;border-bottom: 1px solid gray;flex-grow: 1;}#sk-container-id-5 div.sk-label:hover label.sk-toggleable__label {background-color: #d4ebff;}#sk-container-id-5 div.sk-serial::before {content: \"\";position: absolute;border-left: 1px solid gray;box-sizing: border-box;top: 0;bottom: 0;left: 50%;z-index: 0;}#sk-container-id-5 div.sk-serial {display: flex;flex-direction: column;align-items: center;background-color: white;padding-right: 0.2em;padding-left: 0.2em;position: relative;}#sk-container-id-5 div.sk-item {position: relative;z-index: 1;}#sk-container-id-5 div.sk-parallel {display: flex;align-items: stretch;justify-content: center;background-color: white;position: relative;}#sk-container-id-5 div.sk-item::before, #sk-container-id-5 div.sk-parallel-item::before {content: \"\";position: absolute;border-left: 1px solid gray;box-sizing: border-box;top: 0;bottom: 0;left: 50%;z-index: -1;}#sk-container-id-5 div.sk-parallel-item {display: flex;flex-direction: column;z-index: 1;position: relative;background-color: white;}#sk-container-id-5 div.sk-parallel-item:first-child::after {align-self: flex-end;width: 50%;}#sk-container-id-5 div.sk-parallel-item:last-child::after {align-self: flex-start;width: 50%;}#sk-container-id-5 div.sk-parallel-item:only-child::after {width: 0;}#sk-container-id-5 div.sk-dashed-wrapped {border: 1px dashed gray;margin: 0 0.4em 0.5em 0.4em;box-sizing: border-box;padding-bottom: 0.4em;background-color: white;}#sk-container-id-5 div.sk-label label {font-family: monospace;font-weight: bold;display: inline-block;line-height: 1.2em;}#sk-container-id-5 div.sk-label-container {text-align: center;}#sk-container-id-5 div.sk-container {/* jupyter's `normalize.less` sets `[hidden] { display: none; }` but bootstrap.min.css set `[hidden] { display: none !important; }` so we also need the `!important` here to be able to override the default hidden behavior on the sphinx rendered scikit-learn.org. See: https://github.com/scikit-learn/scikit-learn/issues/21755 */display: inline-block !important;position: relative;}#sk-container-id-5 div.sk-text-repr-fallback {display: none;}</style><div id=\"sk-container-id-5\" class=\"sk-top-container\"><div class=\"sk-text-repr-fallback\"><pre>LogisticRegression()</pre><b>In a Jupyter environment, please rerun this cell to show the HTML representation or trust the notebook. <br />On GitHub, the HTML representation is unable to render, please try loading this page with nbviewer.org.</b></div><div class=\"sk-container\" hidden><div class=\"sk-item\"><div class=\"sk-estimator sk-toggleable\"><input class=\"sk-toggleable__control sk-hidden--visually\" id=\"sk-estimator-id-5\" type=\"checkbox\" checked><label for=\"sk-estimator-id-5\" class=\"sk-toggleable__label sk-toggleable__label-arrow\">LogisticRegression</label><div class=\"sk-toggleable__content\"><pre>LogisticRegression()</pre></div></div></div></div></div>"
            ]
          },
          "metadata": {},
          "execution_count": 35
        }
      ]
    },
    {
      "cell_type": "code",
      "source": [
        "# Crear el modelo de regresión logística para 'Homework'\n",
        "model2 = LogisticRegression() # Tiene un máximo de 100 iteraciones por default\n",
        "\n",
        "# Ajustar el modelo con los datos de entrenamiento para 'Homework'\n",
        "model2.fit(np.array(X_train['Homework']).reshape(-1,1), y_train)"
      ],
      "metadata": {
        "colab": {
          "base_uri": "https://localhost:8080/",
          "height": 129
        },
        "id": "xVaruQc3UATS",
        "outputId": "ba6e8e5f-4142-42fe-cce8-17eaf2a4f8d8"
      },
      "execution_count": 36,
      "outputs": [
        {
          "output_type": "stream",
          "name": "stderr",
          "text": [
            "/usr/local/lib/python3.10/dist-packages/sklearn/utils/validation.py:1183: DataConversionWarning: A column-vector y was passed when a 1d array was expected. Please change the shape of y to (n_samples, ), for example using ravel().\n",
            "  y = column_or_1d(y, warn=True)\n"
          ]
        },
        {
          "output_type": "execute_result",
          "data": {
            "text/plain": [
              "LogisticRegression()"
            ],
            "text/html": [
              "<style>#sk-container-id-6 {color: black;}#sk-container-id-6 pre{padding: 0;}#sk-container-id-6 div.sk-toggleable {background-color: white;}#sk-container-id-6 label.sk-toggleable__label {cursor: pointer;display: block;width: 100%;margin-bottom: 0;padding: 0.3em;box-sizing: border-box;text-align: center;}#sk-container-id-6 label.sk-toggleable__label-arrow:before {content: \"▸\";float: left;margin-right: 0.25em;color: #696969;}#sk-container-id-6 label.sk-toggleable__label-arrow:hover:before {color: black;}#sk-container-id-6 div.sk-estimator:hover label.sk-toggleable__label-arrow:before {color: black;}#sk-container-id-6 div.sk-toggleable__content {max-height: 0;max-width: 0;overflow: hidden;text-align: left;background-color: #f0f8ff;}#sk-container-id-6 div.sk-toggleable__content pre {margin: 0.2em;color: black;border-radius: 0.25em;background-color: #f0f8ff;}#sk-container-id-6 input.sk-toggleable__control:checked~div.sk-toggleable__content {max-height: 200px;max-width: 100%;overflow: auto;}#sk-container-id-6 input.sk-toggleable__control:checked~label.sk-toggleable__label-arrow:before {content: \"▾\";}#sk-container-id-6 div.sk-estimator input.sk-toggleable__control:checked~label.sk-toggleable__label {background-color: #d4ebff;}#sk-container-id-6 div.sk-label input.sk-toggleable__control:checked~label.sk-toggleable__label {background-color: #d4ebff;}#sk-container-id-6 input.sk-hidden--visually {border: 0;clip: rect(1px 1px 1px 1px);clip: rect(1px, 1px, 1px, 1px);height: 1px;margin: -1px;overflow: hidden;padding: 0;position: absolute;width: 1px;}#sk-container-id-6 div.sk-estimator {font-family: monospace;background-color: #f0f8ff;border: 1px dotted black;border-radius: 0.25em;box-sizing: border-box;margin-bottom: 0.5em;}#sk-container-id-6 div.sk-estimator:hover {background-color: #d4ebff;}#sk-container-id-6 div.sk-parallel-item::after {content: \"\";width: 100%;border-bottom: 1px solid gray;flex-grow: 1;}#sk-container-id-6 div.sk-label:hover label.sk-toggleable__label {background-color: #d4ebff;}#sk-container-id-6 div.sk-serial::before {content: \"\";position: absolute;border-left: 1px solid gray;box-sizing: border-box;top: 0;bottom: 0;left: 50%;z-index: 0;}#sk-container-id-6 div.sk-serial {display: flex;flex-direction: column;align-items: center;background-color: white;padding-right: 0.2em;padding-left: 0.2em;position: relative;}#sk-container-id-6 div.sk-item {position: relative;z-index: 1;}#sk-container-id-6 div.sk-parallel {display: flex;align-items: stretch;justify-content: center;background-color: white;position: relative;}#sk-container-id-6 div.sk-item::before, #sk-container-id-6 div.sk-parallel-item::before {content: \"\";position: absolute;border-left: 1px solid gray;box-sizing: border-box;top: 0;bottom: 0;left: 50%;z-index: -1;}#sk-container-id-6 div.sk-parallel-item {display: flex;flex-direction: column;z-index: 1;position: relative;background-color: white;}#sk-container-id-6 div.sk-parallel-item:first-child::after {align-self: flex-end;width: 50%;}#sk-container-id-6 div.sk-parallel-item:last-child::after {align-self: flex-start;width: 50%;}#sk-container-id-6 div.sk-parallel-item:only-child::after {width: 0;}#sk-container-id-6 div.sk-dashed-wrapped {border: 1px dashed gray;margin: 0 0.4em 0.5em 0.4em;box-sizing: border-box;padding-bottom: 0.4em;background-color: white;}#sk-container-id-6 div.sk-label label {font-family: monospace;font-weight: bold;display: inline-block;line-height: 1.2em;}#sk-container-id-6 div.sk-label-container {text-align: center;}#sk-container-id-6 div.sk-container {/* jupyter's `normalize.less` sets `[hidden] { display: none; }` but bootstrap.min.css set `[hidden] { display: none !important; }` so we also need the `!important` here to be able to override the default hidden behavior on the sphinx rendered scikit-learn.org. See: https://github.com/scikit-learn/scikit-learn/issues/21755 */display: inline-block !important;position: relative;}#sk-container-id-6 div.sk-text-repr-fallback {display: none;}</style><div id=\"sk-container-id-6\" class=\"sk-top-container\"><div class=\"sk-text-repr-fallback\"><pre>LogisticRegression()</pre><b>In a Jupyter environment, please rerun this cell to show the HTML representation or trust the notebook. <br />On GitHub, the HTML representation is unable to render, please try loading this page with nbviewer.org.</b></div><div class=\"sk-container\" hidden><div class=\"sk-item\"><div class=\"sk-estimator sk-toggleable\"><input class=\"sk-toggleable__control sk-hidden--visually\" id=\"sk-estimator-id-6\" type=\"checkbox\" checked><label for=\"sk-estimator-id-6\" class=\"sk-toggleable__label sk-toggleable__label-arrow\">LogisticRegression</label><div class=\"sk-toggleable__content\"><pre>LogisticRegression()</pre></div></div></div></div></div>"
            ]
          },
          "metadata": {},
          "execution_count": 36
        }
      ]
    },
    {
      "cell_type": "markdown",
      "source": [
        "Se crearon y ajustaron los modelos de regresión logística para las variables independientes 'Attendance' y 'Homework' con la función 'LogisticRegression' de Scikit-learn, la cual es una implementación del algoritmo de regresión logística, que es un modelo de clasificación utilizado para predecir una variable de salida binaria (como 0 o 1, verdadero o falso) en función de una o más variables de entrada."
      ],
      "metadata": {
        "id": "P87bMA84YYyI"
      }
    },
    {
      "cell_type": "markdown",
      "source": [
        "En el bloque superior se muestra una función que crea y ajusta los modelos de regresión logística, con atributos que nos permiten conocer los valores de $\\theta$ para cada modelo.\n",
        "\n",
        "Como hiperparámetros utiliza por defecto la penalización 'l2' con una constante de regularización inversa de '1.0'. Optimiza usando el solver 'lbfgs' y permite hasta 100 iteraciones para alcanzar la convergencia. El modelo incluye un intercepto (fit_intercept=True) y no asigna pesos a las clases (class_weight=None). La tolerancia para la parada es de 1e-4, y no se aplica la optimización dual (dual=False). El modelo utiliza un enfoque automático para problemas multiclase (multi_class='auto') y no reutiliza soluciones previas (warm_start=False). Por último, no se especifica un estado aleatorio (random_state=None), ni se configuran trabajos paralelos (n_jobs=None). La razón para utilizar dichos hiperparámetros es probar el comportamiento de la solución más simple o sencilla que dicha función puede ofrecer."
      ],
      "metadata": {
        "id": "V1CE-SU0h-NO"
      }
    },
    {
      "cell_type": "code",
      "source": [
        "################### Regresión Logística para entrenamiento con la variable Attendace\n",
        "print(\"Los parámetros obtenidos después de 100 iteraciones son \", model.coef_, model.intercept_)"
      ],
      "metadata": {
        "colab": {
          "base_uri": "https://localhost:8080/"
        },
        "id": "vbbs16gKiO2v",
        "outputId": "b1f04ec0-5808-4aff-c2d0-11d898433436"
      },
      "execution_count": 37,
      "outputs": [
        {
          "output_type": "stream",
          "name": "stdout",
          "text": [
            "Los parámetros obtenidos después de 100 iteraciones son  [[1.19091124e-08]] [1.60943102]\n"
          ]
        }
      ]
    },
    {
      "cell_type": "code",
      "source": [
        "################### Regresión Logística para entrenamiento con la variable Attendace\n",
        "print(\"Los parámetros obtenidos después de 100 iteraciones son \", model2.coef_, model2.intercept_)"
      ],
      "metadata": {
        "colab": {
          "base_uri": "https://localhost:8080/"
        },
        "id": "KWspFSwzntMh",
        "outputId": "79efb849-d12b-4030-9d86-b224ebe9fda0"
      },
      "execution_count": 38,
      "outputs": [
        {
          "output_type": "stream",
          "name": "stdout",
          "text": [
            "Los parámetros obtenidos después de 100 iteraciones son  [[0.57314943]] [-40.08791164]\n"
          ]
        }
      ]
    },
    {
      "cell_type": "markdown",
      "source": [
        "### 4. Prueba tu implementación. Para ello, utiliza el modelo entrenado para hacer predecir las salidas del subconjunto de prueba, y compara contra los datos reales en una gráfica."
      ],
      "metadata": {
        "id": "lO08Rvk7TB7L"
      }
    },
    {
      "cell_type": "code",
      "source": [
        "y_pred = pd.DataFrame()\n",
        "y_pred['Pass'] = model.predict(np.array(X_test['Attendance']).reshape(-1,1)) # Predicción del conjunto de prueba del modelo Attendance"
      ],
      "metadata": {
        "id": "5avwou5bVKUK"
      },
      "execution_count": 39,
      "outputs": []
    },
    {
      "cell_type": "code",
      "source": [
        "import matplotlib.pyplot as plt\n",
        "\n",
        "# Crear la gráfica de comparación de puntos\n",
        "plt.scatter(x['Attendance'], y, color='blue', marker='D', label='Datos reales')  # 'D' para rombos\n",
        "plt.scatter(pd.concat([pd.DataFrame(X_train['Attendance']),pd.DataFrame(X_test['Attendance'])]), pd.concat([pd.DataFrame(y_train),pd.DataFrame(y_pred)]), color='red', marker='s', label='Predicciones')   # 's' para cuadrados\n",
        "\n",
        "# Añadir etiquetas y título\n",
        "plt.xlabel('Attendance')\n",
        "plt.ylabel('Pass')\n",
        "plt.title('Real vs Predicción')\n",
        "plt.legend()\n",
        "\n",
        "# Mostrar la gráfica\n",
        "plt.show()"
      ],
      "metadata": {
        "colab": {
          "base_uri": "https://localhost:8080/",
          "height": 472
        },
        "id": "Vs2OBK0l7tbV",
        "outputId": "7fb048e0-dc18-4636-b314-3b80741ad761"
      },
      "execution_count": 40,
      "outputs": [
        {
          "output_type": "display_data",
          "data": {
            "text/plain": [
              "<Figure size 640x480 with 1 Axes>"
            ],
            "image/png": "[encoded data removed]"
          },
          "metadata": {}
        }
      ]
    },
    {
      "cell_type": "code",
      "source": [
        "y_pred2 = pd.DataFrame()\n",
        "y_pred2['Pass'] = model2.predict(np.array(X_test['Homework']).reshape(-1,1))  # Predicción del conjunto de prueba del modelo Homework"
      ],
      "metadata": {
        "id": "RoWr64W6TCK1"
      },
      "execution_count": 41,
      "outputs": []
    },
    {
      "cell_type": "code",
      "source": [
        "# Crear la gráfica de comparación de puntos\n",
        "plt.scatter(x['Homework'], y, color='blue', marker='D', label='Datos reales')  # 'D' para rombos\n",
        "plt.scatter(pd.concat([pd.DataFrame(X_train['Homework']),pd.DataFrame(X_test['Homework'])]), pd.concat([pd.DataFrame(y_train),pd.DataFrame(y_pred2)]), color='red', marker='s', label='Predicciones')   # 's' para cuadrados\n",
        "\n",
        "# Añadir etiquetas y título\n",
        "plt.xlabel('Homework')\n",
        "plt.ylabel('Pass')\n",
        "plt.title('Real vs Predicción')\n",
        "plt.legend()\n",
        "\n",
        "# Mostrar la gráfica\n",
        "plt.show()"
      ],
      "metadata": {
        "colab": {
          "base_uri": "https://localhost:8080/",
          "height": 472
        },
        "id": "MgKieYq6mquH",
        "outputId": "6e011bf3-df4b-4e6e-809f-5e709ed15d28"
      },
      "execution_count": 42,
      "outputs": [
        {
          "output_type": "display_data",
          "data": {
            "text/plain": [
              "<Figure size 640x480 with 1 Axes>"
            ],
            "image/png": "[encoded data removed]"
          },
          "metadata": {}
        }
      ]
    },
    {
      "cell_type": "markdown",
      "source": [
        "### 5. Calcula el valor de la función de costo para el subconjunto de entrenamiento, y para el subconjunto de prueba."
      ],
      "metadata": {
        "id": "DoBBJDXTTCXY"
      }
    },
    {
      "cell_type": "code",
      "source": [
        "from sklearn.metrics import log_loss\n",
        "\n",
        "print(\"Valor de la función de costo para los datos de entrenamiento del modelo Attendance \", log_loss(y_train, model.predict(np.array(X_train['Attendance']).reshape(-1,1))))\n",
        "print(\"Valor de la función de costo para los datos de prueba del modelo Attendance \", log_loss(y_test, y_pred,labels = [0,1]))"
      ],
      "metadata": {
        "id": "s0WbmBnuTCmk",
        "colab": {
          "base_uri": "https://localhost:8080/"
        },
        "outputId": "9783a6d4-67ca-4c11-e5b5-965d88aa2140"
      },
      "execution_count": 43,
      "outputs": [
        {
          "output_type": "stream",
          "name": "stdout",
          "text": [
            "Valor de la función de costo para los datos de entrenamiento del modelo Attendance  6.007275564852859\n",
            "Valor de la función de costo para los datos de prueba del modelo Attendance  36.04365338911715\n"
          ]
        }
      ]
    },
    {
      "cell_type": "code",
      "source": [
        "print(\"Valor de la función de costo para los datos de entrenamiento del modelo Homework \", log_loss(y_train, model.predict(np.array(X_train['Homework']).reshape(-1,1))))\n",
        "print(\"Valor de la función de costo para los datos de prueba del modelo Homework \", log_loss(y_test, y_pred2,labels = [0,1]))"
      ],
      "metadata": {
        "colab": {
          "base_uri": "https://localhost:8080/"
        },
        "id": "2Wgh0hM3pXdc",
        "outputId": "d582840f-a59b-423e-b274-b96772310483"
      },
      "execution_count": 44,
      "outputs": [
        {
          "output_type": "stream",
          "name": "stdout",
          "text": [
            "Valor de la función de costo para los datos de entrenamiento del modelo Homework  6.007275564852859\n",
            "Valor de la función de costo para los datos de prueba del modelo Homework  18.021826694558577\n"
          ]
        }
      ]
    },
    {
      "cell_type": "markdown",
      "source": [
        "Y además de la función de costo, se calcularán las métricas de matrices de confusión debido a instrucciones del problema."
      ],
      "metadata": {
        "id": "fkSQLkzcpl1J"
      }
    },
    {
      "cell_type": "markdown",
      "source": [
        "En este bloque se definen funciones de las métricas de evaluación requeridas en el Challenge.\n",
        "\n",
        "  - Accuracy: Es la proporción de predicciones correctas (tanto verdaderos positivos como verdaderos negativos) sobre el total de predicciones realizadas.\n",
        "\n",
        "  - Precision: Es la proporción de predicciones positivas correctas sobre todas las predicciones positivas hechas por el modelo.\n",
        "\n",
        "  - Recall: Es la proporción de verdaderos positivos identificados correctamente sobre todos los ejemplos que son realmente positivos.\n",
        "\n",
        "  - F1 Score: Es la media armónica de la precisión y la sensibilidad. Se utiliza cuando se busca un equilibrio entre precisión y sensibilidad, especialmente cuando hay un desbalance de clases."
      ],
      "metadata": {
        "id": "peBD92O4ZSQa"
      }
    },
    {
      "cell_type": "code",
      "source": [
        "from sklearn.metrics import accuracy_score, confusion_matrix, classification_report\n",
        "\n",
        "# Evaluar la precisión del modelo\n",
        "accuracy = accuracy_score(y_test, y_pred)\n",
        "print(f'Accuracy: {accuracy}')\n",
        "\n",
        "# Matriz de confusión\n",
        "conf_matrix = confusion_matrix(y_test, y_pred)\n",
        "print('Confusion Matrix:')\n",
        "print(conf_matrix)\n",
        "\n",
        "# Informe de clasificación\n",
        "class_report = classification_report(y_test, y_pred)\n",
        "print('Classification Report:')\n",
        "print(class_report)"
      ],
      "metadata": {
        "colab": {
          "base_uri": "https://localhost:8080/"
        },
        "id": "07D3AcE_puDk",
        "outputId": "35612d1c-c3f0-4729-b13a-0360142219c3"
      },
      "execution_count": 45,
      "outputs": [
        {
          "output_type": "stream",
          "name": "stdout",
          "text": [
            "Accuracy: 0.0\n",
            "Confusion Matrix:\n",
            "[[0 2]\n",
            " [0 0]]\n",
            "Classification Report:\n",
            "              precision    recall  f1-score   support\n",
            "\n",
            "           0       0.00      0.00      0.00       2.0\n",
            "           1       0.00      0.00      0.00       0.0\n",
            "\n",
            "    accuracy                           0.00       2.0\n",
            "   macro avg       0.00      0.00      0.00       2.0\n",
            "weighted avg       0.00      0.00      0.00       2.0\n",
            "\n"
          ]
        },
        {
          "output_type": "stream",
          "name": "stderr",
          "text": [
            "/usr/local/lib/python3.10/dist-packages/sklearn/metrics/_classification.py:1471: UndefinedMetricWarning: Precision and F-score are ill-defined and being set to 0.0 in labels with no predicted samples. Use `zero_division` parameter to control this behavior.\n",
            "  _warn_prf(average, modifier, msg_start, len(result))\n",
            "/usr/local/lib/python3.10/dist-packages/sklearn/metrics/_classification.py:1471: UndefinedMetricWarning: Recall and F-score are ill-defined and being set to 0.0 in labels with no true samples. Use `zero_division` parameter to control this behavior.\n",
            "  _warn_prf(average, modifier, msg_start, len(result))\n",
            "/usr/local/lib/python3.10/dist-packages/sklearn/metrics/_classification.py:1471: UndefinedMetricWarning: Precision and F-score are ill-defined and being set to 0.0 in labels with no predicted samples. Use `zero_division` parameter to control this behavior.\n",
            "  _warn_prf(average, modifier, msg_start, len(result))\n",
            "/usr/local/lib/python3.10/dist-packages/sklearn/metrics/_classification.py:1471: UndefinedMetricWarning: Recall and F-score are ill-defined and being set to 0.0 in labels with no true samples. Use `zero_division` parameter to control this behavior.\n",
            "  _warn_prf(average, modifier, msg_start, len(result))\n",
            "/usr/local/lib/python3.10/dist-packages/sklearn/metrics/_classification.py:1471: UndefinedMetricWarning: Precision and F-score are ill-defined and being set to 0.0 in labels with no predicted samples. Use `zero_division` parameter to control this behavior.\n",
            "  _warn_prf(average, modifier, msg_start, len(result))\n",
            "/usr/local/lib/python3.10/dist-packages/sklearn/metrics/_classification.py:1471: UndefinedMetricWarning: Recall and F-score are ill-defined and being set to 0.0 in labels with no true samples. Use `zero_division` parameter to control this behavior.\n",
            "  _warn_prf(average, modifier, msg_start, len(result))\n"
          ]
        }
      ]
    },
    {
      "cell_type": "code",
      "source": [
        "# Evaluar la precisión del modelo\n",
        "accuracy = accuracy_score(y_test, y_pred2)\n",
        "print(f'Accuracy: {accuracy}')\n",
        "\n",
        "# Matriz de confusión\n",
        "conf_matrix = confusion_matrix(y_test, y_pred2)\n",
        "print('Confusion Matrix:')\n",
        "print(conf_matrix)\n",
        "\n",
        "# Informe de clasificación\n",
        "class_report = classification_report(y_test, y_pred2)\n",
        "print('Classification Report:')\n",
        "print(class_report)"
      ],
      "metadata": {
        "colab": {
          "base_uri": "https://localhost:8080/"
        },
        "id": "oR8NGeF3pt9N",
        "outputId": "c7ba2e0d-676e-4247-e3c9-443037967426"
      },
      "execution_count": 46,
      "outputs": [
        {
          "output_type": "stream",
          "name": "stdout",
          "text": [
            "Accuracy: 0.5\n",
            "Confusion Matrix:\n",
            "[[1 1]\n",
            " [0 0]]\n",
            "Classification Report:\n",
            "              precision    recall  f1-score   support\n",
            "\n",
            "           0       1.00      0.50      0.67         2\n",
            "           1       0.00      0.00      0.00         0\n",
            "\n",
            "    accuracy                           0.50         2\n",
            "   macro avg       0.50      0.25      0.33         2\n",
            "weighted avg       1.00      0.50      0.67         2\n",
            "\n"
          ]
        },
        {
          "output_type": "stream",
          "name": "stderr",
          "text": [
            "/usr/local/lib/python3.10/dist-packages/sklearn/metrics/_classification.py:1471: UndefinedMetricWarning: Recall and F-score are ill-defined and being set to 0.0 in labels with no true samples. Use `zero_division` parameter to control this behavior.\n",
            "  _warn_prf(average, modifier, msg_start, len(result))\n",
            "/usr/local/lib/python3.10/dist-packages/sklearn/metrics/_classification.py:1471: UndefinedMetricWarning: Recall and F-score are ill-defined and being set to 0.0 in labels with no true samples. Use `zero_division` parameter to control this behavior.\n",
            "  _warn_prf(average, modifier, msg_start, len(result))\n",
            "/usr/local/lib/python3.10/dist-packages/sklearn/metrics/_classification.py:1471: UndefinedMetricWarning: Recall and F-score are ill-defined and being set to 0.0 in labels with no true samples. Use `zero_division` parameter to control this behavior.\n",
            "  _warn_prf(average, modifier, msg_start, len(result))\n"
          ]
        }
      ]
    },
    {
      "cell_type": "markdown",
      "source": [
        "Como podemos apreciar, el modelo con la variable 'Attendance' no da ninguna predicción correcta, por lo que la exactitud del modelo es del 0%, mientras que el modelo 'Homework' presenta el 50% de exactitud debido a que da 1 de 2 predicciones correctas. Estos puntajes se deben, más que nada, al tamaño de los datos, pues solo se contaron con 6 datos de entrenamiento y 2 de prueba. Estos pocos datos nos llevaron a un gran underfitting, a diferencia del modelo implementado a mano del archivo \"Implementacion.ipynb\" en el cual la precisión era del 100%, es decir, contemplabamos un overfitting."
      ],
      "metadata": {
        "id": "lmg-6YRxrkCi"
      }
    },
    {
      "cell_type": "markdown",
      "source": [
        "### 6. Para facilitar la revisión, entrega dos archivos. El primero debe ser un Jupyter Notebook con todo el desarrollo (código comentado). El segundo debe ser un PDF del Jupyter Notebook. Para esto último, utiliza el comando nbconvert --to html para exportar el notebook a HTML y poder guardar el PDF más fácilmente (https://github.com/jupyter/nbconvert). Ten en cuenta que debes cargar tu directorio de Drive y dar la ruta al archivo, por lo que el comando completo sería:\n",
        "!jupyter nbconvert --to html /content/drive/MyDrive/ColabNotebooks/archivo.ipynb\n"
      ],
      "metadata": {
        "id": "jHTh4duXTC1b"
      }
    },
    {
      "cell_type": "code",
      "source": [
        "from google.colab import drive\n",
        "drive.mount('/content/drive')"
      ],
      "metadata": {
        "colab": {
          "base_uri": "https://localhost:8080/"
        },
        "id": "yWjZKtIsmstF",
        "outputId": "260964da-724d-46b7-dfd1-3cf53d40b5f7"
      },
      "execution_count": 47,
      "outputs": [
        {
          "output_type": "stream",
          "name": "stdout",
          "text": [
            "Drive already mounted at /content/drive; to attempt to forcibly remount, call drive.mount(\"/content/drive\", force_remount=True).\n"
          ]
        }
      ]
    },
    {
      "cell_type": "code",
      "source": [
        "!jupyter nbconvert --to html \"/content/drive/MyDrive/Colab Notebooks/Imple_Scikit.ipynb\""
      ],
      "metadata": {
        "id": "dB53gCYGTDJb",
        "colab": {
          "base_uri": "https://localhost:8080/"
        },
        "outputId": "40d746a9-167f-49b9-ca04-7c323ba59768"
      },
      "execution_count": 48,
      "outputs": [
        {
          "output_type": "stream",
          "name": "stdout",
          "text": [
            "[NbConvertApp] Converting notebook /content/drive/MyDrive/Colab Notebooks/Imple_Scikit.ipynb to html\n",
            "[NbConvertApp] Writing 688161 bytes to /content/drive/MyDrive/Colab Notebooks/Imple_Scikit.html\n"
          ]
        }
      ]
    },
    {
      "cell_type": "markdown",
      "source": [
        "### 7. Después de la entrega intermedia se te darán correcciones que puedes incluir en tu entrega final."
      ],
      "metadata": {
        "id": "NhE37FA_TRVf"
      }
    }
  ]
}