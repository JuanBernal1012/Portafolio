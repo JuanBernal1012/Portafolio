{
  "nbformat": 4,
  "nbformat_minor": 0,
  "metadata": {
    "colab": {
      "provenance": []
    },
    "kernelspec": {
      "name": "python3",
      "display_name": "Python 3"
    },
    "language_info": {
      "name": "python"
    }
  },
  "cells": [
    {
      "cell_type": "markdown",
      "source": [
        "# Momento de Retroalimentación: Módulo 2 Implementación de una técnica de aprendizaje máquina sin el uso de un framework. (Portafolio Implementación)\n",
        "\n",
        "Por Juan Pablo Bernal Lafarga - A01742342"
      ],
      "metadata": {
        "id": "OJ2PLoTHS0fY"
      }
    },
    {
      "cell_type": "markdown",
      "source": [
        "### 1. Crea un espacio dentro del repositorio de GitHub que creaste para el portafolio de implementación (por ejemplo, una carpeta para el módulo de ML con una subcarpeta para este entregable)."
      ],
      "metadata": {
        "id": "2to9JY3cRUPU"
      }
    },
    {
      "cell_type": "markdown",
      "source": [
        "https://github.com/JPBL101203/TC3006C_A01742342/tree/main/Portafolio_Implementacion/Machine_Learning_Imp"
      ],
      "metadata": {
        "id": "M2tOQGpkToZE"
      }
    },
    {
      "cell_type": "markdown",
      "source": [
        "### 2. Selecciona uno de los dos primeros 'Challenge' vistos en clase (Week01_Challenge.pdf o Week02_Challenge1.pdf) y programa un algoritmo que permita resolver el problema. Dicho algoritmo debe ser uno de los algoritmos vistos en el módulo (o que tu profesor de módulo autorice), y no puedes usar ninguna biblioteca o framework de aprendizaje máquina, ni de estadística avanzada. Lo que se busca es que implementes manualmente el algoritmo, no que importes un algoritmo ya implementado."
      ],
      "metadata": {
        "id": "lQ542JiDS7CV"
      }
    },
    {
      "cell_type": "markdown",
      "source": [
        "He seleccionado el Week02_Challenge1 que dice:\n",
        "\n",
        "  - Adapte el código de la regresión lineal desarrollado en clase para que el modelo entrenado corresponda con una regresión logística. Posteriormente, implemente un clasificador que estime si un estudiante aprueba o no el curso:\n",
        "\n",
        "        ‡ Considerando solamente la columna ‘Attendance’\n",
        "\n",
        "        ‡ Considerando solamente la columna ‘Homework’\n",
        "\n",
        "      † Calcule las métricas de desempeño. ¿Cuál es mejor? ¿Le ganan a la referencia?"
      ],
      "metadata": {
        "id": "PmtshU4CTs9t"
      }
    },
    {
      "cell_type": "markdown",
      "source": [
        "### 3. Divide el set de datos del problema en dos subconjuntos, uno para entrenamiento y otro para prueba. Entrena tu modelo sobre el primer subconjunto, y por un mínimo de 100 iteraciones. Selecciona valores para la tasa de aprendizaje y para los parámetros iniciales, según tu criterio."
      ],
      "metadata": {
        "id": "za2Csm64TBc2"
      }
    },
    {
      "cell_type": "markdown",
      "source": [
        "Dado que el problema plantea 2 variables independientes, se tendrán los siguientes subconjuntos de entrenamiento y prueba:"
      ],
      "metadata": {
        "id": "-LCiji5jVLdF"
      }
    },
    {
      "cell_type": "code",
      "source": [
        "x_train = [80, 65, 95, 95, 85, 75] # Subconjunto de la variable independiente Attendance para entrenamiento\n",
        "x_test = [90, 65] # Subconjunto de la variable independiente Attendance para prueba\n",
        "\n",
        "x1_train = [75, 70, 85, 100, 65, 55] # Subconjunto de la variable independiente Homework para entrenamiento\n",
        "x1_test = [90, 80] # Subconjunto de la variable independiente Homework para prueba\n",
        "\n",
        "y_train = [1, 0, 1, 1, 0, 0] # Subconjunto de la variable dependiente Pass para entrenamiento\n",
        "y_test = [1, 1] # Subconjunto de la variable dependiente Pass para prueba"
      ],
      "metadata": {
        "id": "jn3gum9fTBtv"
      },
      "execution_count": 1,
      "outputs": []
    },
    {
      "cell_type": "markdown",
      "source": [
        "Se optó por una distribución de 75%-25% para los subconjuntos de entrenamiento y prueba respectivamente, ya que solo se cuenta con 8 observaciones. De esta manera el entrenamiento de se lleva a cabo con 6 datos y la prueba para predecir los otros 2 datos."
      ],
      "metadata": {
        "id": "CepDDopHW-s0"
      }
    },
    {
      "cell_type": "code",
      "source": [
        "a = 0.001 # Taza de aprendizaje\n",
        "teta_x = [0.1, 0.1] # Parámetros iniciales para el modelo de regresión logística con la variable Attendance\n",
        "teta_x1 = [0.1, 0.1] # Parámetros iniciales para el modelo de regresión logística con la variable Homework"
      ],
      "metadata": {
        "id": "Uv16X_pHXkJ8"
      },
      "execution_count": 2,
      "outputs": []
    },
    {
      "cell_type": "markdown",
      "source": [
        "Se seleccionó un valor muy común de taza de aprendizaje y parámetros iniciales con valor de 0.1. El valor inicial de los parámetros se decidió después de recibir errores por parte del código de regresión logística al obtener que el logaritmo del modelo no estaba definido, es decir, se tomaban valores como 0 o 1."
      ],
      "metadata": {
        "id": "P87bMA84YYyI"
      }
    },
    {
      "cell_type": "code",
      "source": [
        "def accuracy(tp, tn, fp, fn):\n",
        "\tnum = tp+tn\n",
        "\tden = tp+tn+fp+fn\n",
        "\treturn num/den\n",
        "\n",
        "def precision(tp, fp):\n",
        "  num = tp\n",
        "  den = tp+fp\n",
        "  return num/den\n",
        "\n",
        "def recall(tp, fn):\n",
        "  num = tp\n",
        "  den = tp+fn\n",
        "  return num/den\n",
        "\n",
        "def f1_score(precision, recall):\n",
        "  num = 2*precision*recall\n",
        "  den = precision+recall\n",
        "  return num/den\n",
        "\n",
        "def pn(y_test, y_pred):\n",
        "  tp = 0\n",
        "  tn = 0\n",
        "  fp = 0\n",
        "  fn = 0\n",
        "  for i in range(len(y_test)):\n",
        "    if y_test[i] == y_pred[i] == 1:\n",
        "      tp += 1\n",
        "    elif y_test[i] == y_pred[i] == 0:\n",
        "      tn += 1\n",
        "    elif y_test[i] == 1 and y_pred[i] == 0:\n",
        "      fn += 1\n",
        "    elif y_test[i] == 0 and y_pred[i] == 1:\n",
        "      fp += 1\n",
        "  return tp, tn, fp, fn"
      ],
      "metadata": {
        "id": "te4W9rQQYjZt"
      },
      "execution_count": 3,
      "outputs": []
    },
    {
      "cell_type": "markdown",
      "source": [
        "En este bloque se definen funciones de las métricas de evaluación requeridas en el Challenge.\n",
        "\n",
        "  - Accuracy: Es la proporción de predicciones correctas (tanto verdaderos positivos como verdaderos negativos) sobre el total de predicciones realizadas.\n",
        "\n",
        "  - Precision: Es la proporción de predicciones positivas correctas sobre todas las predicciones positivas hechas por el modelo.\n",
        "\n",
        "  - Recall: Es la proporción de verdaderos positivos identificados correctamente sobre todos los ejemplos que son realmente positivos.\n",
        "\n",
        "  - F1 Score: Es la media armónica de la precisión y la sensibilidad. Se utiliza cuando se busca un equilibrio entre precisión y sensibilidad, especialmente cuando hay un desbalance de clases."
      ],
      "metadata": {
        "id": "peBD92O4ZSQa"
      }
    },
    {
      "cell_type": "code",
      "source": [
        "import numpy as np\n",
        "import math\n",
        "\n",
        "def reg_log(x, y, teta, a, n): # Función de regresión logística\n",
        "  hx = [0] * len(x) # Función de hipótesis\n",
        "  res = [0] * len(x) # Lista que almacenará la diferencia entre la función de hipótesis evaluada en x_i y el dato de la variable y_i\n",
        "  res1 = [0] * len(x) # Lista que almacenará la diferencia entre la función de hipótesis evaluada en x_i y el dato de la variable y_i, multiplicada por x_i\n",
        "  for i in range(n):\n",
        "    for j in range(len(x)):\n",
        "      hx[j] = 1 / (1 + math.exp(-(teta[0]+teta[1]*x[j])))\n",
        "      res[j] = hx[j] - y[j]\n",
        "      res1[j] = res[j] * x[j]\n",
        "    pro = sum(res)/len(res) # Promedio de la diferencia entre la función de hipótesis evaluada en x_i y el dato de la variable y_i\n",
        "    pro1 = sum(res1)/len(res1) # Promedio de la diferencia entre la función de hipótesis evaluada en x_i y el dato de la variable y_i, multiplicada por x_i\n",
        "    teta[0] = teta[0] - a*pro # Actualización del parámetro teta 0\n",
        "    teta[1] = teta[1] - a*pro1 # Actualización del parámetro teta 1\n",
        "  return teta\n",
        "\n",
        "def log_loss(x, y, teta):\n",
        "  hx = [0] * len(x)\n",
        "  j0 = [0] * len(x) # Lista que almacenará el costo por observación\n",
        "  for i in range(len(x)):\n",
        "    hx[i] = 1 / (1 + math.exp(-(teta[0]+teta[1]*x[i])))\n",
        "    j0[i] = y[i] * math.log(hx[i]) + (1 - y[i]) * math.log(1 - hx[i])\n",
        "  cost = -np.mean(j0) # Valor de la función de costo\n",
        "  return cost\n",
        "\n",
        "def predict(x, teta):\n",
        "  hx = [0] * len(x)\n",
        "  for i in range(len(x)):\n",
        "    hx[i] = round(1 / (1 + math.exp(-(teta[0]+teta[1]*x[i]))), 0)\n",
        "  return hx"
      ],
      "metadata": {
        "id": "WxXErAH5Z-YX"
      },
      "execution_count": 4,
      "outputs": []
    },
    {
      "cell_type": "markdown",
      "source": [
        "En el bloque superior se muestra una función que abarca la regresión logística con Gradiente Descendiente para poder minimizar la función de costo, también está la función de costo log-loss y una función para predicciones."
      ],
      "metadata": {
        "id": "V1CE-SU0h-NO"
      }
    },
    {
      "cell_type": "code",
      "source": [
        "################### Regresión Logística para entrenamiento con la variable Attendace\n",
        "\n",
        "teta_x = reg_log(x_train, y_train, teta_x, a, 100)\n",
        "cost_x = log_loss(x_train, y_train, teta_x)\n",
        "print(\"Los parámetros obtenidos después de 100 iteraciones son \", teta_x)\n",
        "print(\"El log-loss obtenido después de 100 iteraciones es \", cost_x)"
      ],
      "metadata": {
        "colab": {
          "base_uri": "https://localhost:8080/"
        },
        "id": "vbbs16gKiO2v",
        "outputId": "430d45d1-44d9-4f88-cd6d-86f7aa710468"
      },
      "execution_count": 5,
      "outputs": [
        {
          "output_type": "stream",
          "name": "stdout",
          "text": [
            "Los parámetros obtenidos después de 100 iteraciones son  [0.09429219813602557, 0.0010491077185701618]\n",
            "El log-loss obtenido después de 100 iteraciones es  0.6933111554832868\n"
          ]
        }
      ]
    },
    {
      "cell_type": "code",
      "source": [
        "################### Regresión Logística para entrenamiento con la variable Attendace\n",
        "\n",
        "teta_x1 = reg_log(x1_train, y_train, teta_x1, a, 100)\n",
        "cost_x1 = log_loss(x1_train, y_train,teta_x1)\n",
        "print(\"Los parámetros obtenidos después de 100 iteraciones son \", teta_x1)\n",
        "print(\"El log-loss obtenido después de 100 iteraciones es \", cost_x1)"
      ],
      "metadata": {
        "colab": {
          "base_uri": "https://localhost:8080/"
        },
        "id": "KWspFSwzntMh",
        "outputId": "719fde8d-800d-44a7-f400-7655700342b7"
      },
      "execution_count": 6,
      "outputs": [
        {
          "output_type": "stream",
          "name": "stdout",
          "text": [
            "Los parámetros obtenidos después de 100 iteraciones son  [0.0911209399771452, 0.0028622947780536797]\n",
            "El log-loss obtenido después de 100 iteraciones es  0.6883021050899152\n"
          ]
        }
      ]
    },
    {
      "cell_type": "markdown",
      "source": [
        "### 4. Prueba tu implementación. Para ello, utiliza el modelo entrenado para hacer predecir las salidas del subconjunto de prueba, y compara contra los datos reales en una gráfica."
      ],
      "metadata": {
        "id": "lO08Rvk7TB7L"
      }
    },
    {
      "cell_type": "code",
      "source": [
        "predict(x_test, teta_x) # Predicción del conjunto de prueba del modelo Attendance"
      ],
      "metadata": {
        "id": "5avwou5bVKUK",
        "colab": {
          "base_uri": "https://localhost:8080/"
        },
        "outputId": "52068d19-bd6d-40db-bfb0-2444185de612"
      },
      "execution_count": 7,
      "outputs": [
        {
          "output_type": "execute_result",
          "data": {
            "text/plain": [
              "[1.0, 1.0]"
            ]
          },
          "metadata": {},
          "execution_count": 7
        }
      ]
    },
    {
      "cell_type": "code",
      "source": [
        "import matplotlib.pyplot as plt\n",
        "\n",
        "# Crear la gráfica de comparación de puntos\n",
        "plt.scatter(x_train + x_test, y_train + y_test, color='blue', marker='D', label='Datos reales')  # 'D' para rombos\n",
        "plt.scatter(x_train + x_test, y_train + predict(x_test, teta_x), color='red', marker='s', label='Predicciones')   # 's' para cuadrados\n",
        "\n",
        "# Añadir etiquetas y título\n",
        "plt.xlabel('Attendance')\n",
        "plt.ylabel('Pass')\n",
        "plt.title('Real vs Predicción')\n",
        "plt.legend()\n",
        "\n",
        "# Mostrar la gráfica\n",
        "plt.show()"
      ],
      "metadata": {
        "colab": {
          "base_uri": "https://localhost:8080/",
          "height": 472
        },
        "id": "Vs2OBK0l7tbV",
        "outputId": "3cba51af-09ee-4a4c-a5c9-d9fc05a249a7"
      },
      "execution_count": 8,
      "outputs": [
        {
          "output_type": "display_data",
          "data": {
            "text/plain": [
              "<Figure size 640x480 with 1 Axes>"
            ],
            "image/png": "[encoded data removed]"
          },
          "metadata": {}
        }
      ]
    },
    {
      "cell_type": "code",
      "source": [
        "predict(x1_test, teta_x1) # Predicción del conjunto de prueba del modelo Homework"
      ],
      "metadata": {
        "id": "RoWr64W6TCK1",
        "colab": {
          "base_uri": "https://localhost:8080/"
        },
        "outputId": "9b7e2cc0-8f68-4b1c-bf63-7b8eb3506547"
      },
      "execution_count": 9,
      "outputs": [
        {
          "output_type": "execute_result",
          "data": {
            "text/plain": [
              "[1.0, 1.0]"
            ]
          },
          "metadata": {},
          "execution_count": 9
        }
      ]
    },
    {
      "cell_type": "code",
      "source": [
        "# Crear la gráfica de comparación de puntos\n",
        "plt.scatter(x1_train + x1_test, y_train + y_test, color='blue', marker='D', label='Datos reales')  # 'D' para rombos\n",
        "plt.scatter(x1_train + x1_test, y_train + predict(x1_test, teta_x1), color='red', marker='s', label='Predicciones')   # 's' para cuadrados\n",
        "\n",
        "# Añadir etiquetas y título\n",
        "plt.xlabel('Homework')\n",
        "plt.ylabel('Pass')\n",
        "plt.title('Real vs Predicción')\n",
        "plt.legend()\n",
        "\n",
        "# Mostrar la gráfica\n",
        "plt.show()"
      ],
      "metadata": {
        "colab": {
          "base_uri": "https://localhost:8080/",
          "height": 472
        },
        "id": "MgKieYq6mquH",
        "outputId": "15c00a41-414c-4122-d3b5-9c6dd55e7d44"
      },
      "execution_count": 10,
      "outputs": [
        {
          "output_type": "display_data",
          "data": {
            "text/plain": [
              "<Figure size 640x480 with 1 Axes>"
            ],
            "image/png": "[encoded data removed]"
          },
          "metadata": {}
        }
      ]
    },
    {
      "cell_type": "markdown",
      "source": [
        "### 5. Calcula el valor de la función de costo para el subconjunto de entrenamiento, y para el subconjunto de prueba."
      ],
      "metadata": {
        "id": "DoBBJDXTTCXY"
      }
    },
    {
      "cell_type": "code",
      "source": [
        "print(\"Valor de la función de costo para los datos de entrenamiento del modelo Attendance \", log_loss(x_train, y_train, teta_x))\n",
        "print(\"Valor de la función de costo para los datos de prueba del modelo Attendance \", log_loss(x_test, predict(x_test,teta_x), teta_x))"
      ],
      "metadata": {
        "id": "s0WbmBnuTCmk",
        "colab": {
          "base_uri": "https://localhost:8080/"
        },
        "outputId": "4cecd978-1da8-40d0-deee-1497d8707362"
      },
      "execution_count": 11,
      "outputs": [
        {
          "output_type": "stream",
          "name": "stdout",
          "text": [
            "Valor de la función de costo para los datos de entrenamiento del modelo Attendance  0.6933111554832868\n",
            "Valor de la función de costo para los datos de prueba del modelo Attendance  0.6092188814325136\n"
          ]
        }
      ]
    },
    {
      "cell_type": "code",
      "source": [
        "print(\"Valor de la función de costo para los datos de entrenamiento del modelo Homework \", log_loss(x1_train, y_train, teta_x1))\n",
        "print(\"Valor de la función de costo para los datos de prueba del modelo Homework \", log_loss(x1_test, predict(x1_test,teta_x1), teta_x1))"
      ],
      "metadata": {
        "colab": {
          "base_uri": "https://localhost:8080/"
        },
        "id": "2Wgh0hM3pXdc",
        "outputId": "4edc03d6-8f4c-4dba-e696-1c7cd70a88ff"
      },
      "execution_count": 12,
      "outputs": [
        {
          "output_type": "stream",
          "name": "stdout",
          "text": [
            "Valor de la función de costo para los datos de entrenamiento del modelo Homework  0.6883021050899152\n",
            "Valor de la función de costo para los datos de prueba del modelo Homework  0.5398786809271406\n"
          ]
        }
      ]
    },
    {
      "cell_type": "markdown",
      "source": [
        "Y además de la función de costo, se calcularán las métricas de matrices de confusión debido a instrucciones del problema."
      ],
      "metadata": {
        "id": "fkSQLkzcpl1J"
      }
    },
    {
      "cell_type": "code",
      "source": [
        "tp, tn, fp, fn = pn(y_test, predict(x_test, teta_x))\n",
        "print(\"Las métricas de evaluación del modelo Attendance dan: \")\n",
        "print(\"Accuracy: \", accuracy(tp, tn, fp, fn))\n",
        "print(\"Precision: \", precision(tp, fp))\n",
        "print(\"Recall: \", recall(tp, fn))\n",
        "print(\"F1 Score: \", f1_score(precision(tp, fp), recall(tp, fn)))"
      ],
      "metadata": {
        "colab": {
          "base_uri": "https://localhost:8080/"
        },
        "id": "07D3AcE_puDk",
        "outputId": "f18b0f30-2e09-40ac-881d-94f14d223e53"
      },
      "execution_count": 13,
      "outputs": [
        {
          "output_type": "stream",
          "name": "stdout",
          "text": [
            "Las métricas de evaluación del modelo Attendance dan: \n",
            "Accuracy:  1.0\n",
            "Precision:  1.0\n",
            "Recall:  1.0\n",
            "F1 Score:  1.0\n"
          ]
        }
      ]
    },
    {
      "cell_type": "code",
      "source": [
        "tp1, tn1, fp1, fn1 = pn(y_test, predict(x1_test, teta_x1))\n",
        "print(\"Las métricas de evaluación del modelo Attendance dan: \")\n",
        "print(\"Accuracy: \", accuracy(tp1, tn1, fp1, fn1))\n",
        "print(\"Precision: \", precision(tp1, fp1))\n",
        "print(\"Recall: \", recall(tp1, fn1))\n",
        "print(\"F1 Score: \", f1_score(precision(tp1, fp1), recall(tp1, fn1)))"
      ],
      "metadata": {
        "colab": {
          "base_uri": "https://localhost:8080/"
        },
        "id": "oR8NGeF3pt9N",
        "outputId": "04d3218a-18bf-4a36-9bfb-e7cdfe2dbbad"
      },
      "execution_count": 14,
      "outputs": [
        {
          "output_type": "stream",
          "name": "stdout",
          "text": [
            "Las métricas de evaluación del modelo Attendance dan: \n",
            "Accuracy:  1.0\n",
            "Precision:  1.0\n",
            "Recall:  1.0\n",
            "F1 Score:  1.0\n"
          ]
        }
      ]
    },
    {
      "cell_type": "markdown",
      "source": [
        "Como podemos apreciar, en ambos modelos las métricas de evaluación prueban que el modelo es exacto al 100%, las predicciones siempre son correctas. Esto se debe, más que nada, al tamaño de los datos, pues solo se contaron con 6 datos de entrenamiento y 2 de prueba. Estos pocos datos llevan a un gran overfitting."
      ],
      "metadata": {
        "id": "lmg-6YRxrkCi"
      }
    },
    {
      "cell_type": "markdown",
      "source": [
        "### 6. Para facilitar la revisión, entrega dos archivos. El primero debe ser un Jupyter Notebook con todo el desarrollo (código comentado). El segundo debe ser un PDF del Jupyter Notebook. Para esto último, utiliza el comando nbconvert --to html para exportar el notebook a HTML y poder guardar el PDF más fácilmente (https://github.com/jupyter/nbconvert). Ten en cuenta que debes cargar tu directorio de Drive y dar la ruta al archivo, por lo que el comando completo sería:\n",
        "!jupyter nbconvert --to html /content/drive/MyDrive/ColabNotebooks/archivo.ipynb\n"
      ],
      "metadata": {
        "id": "jHTh4duXTC1b"
      }
    },
    {
      "cell_type": "code",
      "source": [
        "#!apt-get -y install texlive-xetex\n",
        "#!apt-get -y install texlive-fonts-recommended texlive-fonts-extra\n",
        "!jupyter nbconvert --to html \"/content/drive/MyDrive/ColabNotebooks/Implementacion.ipynb\""
      ],
      "metadata": {
        "id": "dB53gCYGTDJb",
        "colab": {
          "base_uri": "https://localhost:8080/"
        },
        "outputId": "029f66b5-db16-411a-ee01-8452d69a7336"
      },
      "execution_count": 16,
      "outputs": [
        {
          "output_type": "stream",
          "name": "stdout",
          "text": [
            "[NbConvertApp] Converting notebook /content/drive/MyDrive/ColabNotebooks/Implementacion.ipynb to html\n",
            "[NbConvertApp] Writing 691652 bytes to /content/drive/MyDrive/ColabNotebooks/Implementacion.html\n"
          ]
        }
      ]
    },
    {
      "cell_type": "markdown",
      "source": [
        "### 7. Después de la entrega intermedia se te darán correcciones que puedes incluir en tu entrega final."
      ],
      "metadata": {
        "id": "NhE37FA_TRVf"
      }
    }
  ]
}